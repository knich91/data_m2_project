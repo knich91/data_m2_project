{
 "cells": [
  {
   "cell_type": "code",
   "execution_count": 2,
   "metadata": {},
   "outputs": [],
   "source": [
    "import pandas as pd\n",
    "import requests\n",
    "import matplotlib.pyplot as plt\n",
    "import os "
   ]
  },
  {
   "cell_type": "code",
   "execution_count": 3,
   "metadata": {},
   "outputs": [],
   "source": [
    "exercise_data = pd.read_csv(r'megaGymDataset.csv')   \n",
    "\n",
    "def exercise_data_cleaned(exercise_data: pd.DataFrame) -> pd.DataFrame:\n",
    "    \"\"\"\n",
    "    Cleans the 'exercise_data' DataFrame by:\n",
    "    1. Dropping unnecessary columns: 'Unamed: 0', 'Desc', 'Rating', 'Ratingdesc'.\n",
    "    2. Adding a new boolean columns 'Push' and 'Pull' based on 'Bodyparts'\n",
    "    \n",
    "    Args:\n",
    "        rnm (pd.DataFrame): The input DataFrame to be cleaned.\n",
    "    \n",
    "    Returns:\n",
    "        pd.DataFrame: The cleaned DataFrame with dropped columns, converted 'created' column,\n",
    "                      and the added 'is_human' column.\n",
    "    \"\"\"\n",
    "    cols_to_drop = ['Unnamed: 0', 'Desc', 'Rating', 'Ratingdesc']\n",
    "    exercise_data = exercise_data.drop(columns = cols_to_drop)\n",
    "\n",
    "    push_bodyparts = ['Quadricps', 'Shoulders', 'Chest', 'Triceps', 'Forearms', 'Adductors', 'Neck', 'Abdominals']\n",
    "    exercise_data['Push'] = exercise_data['Bodypart'].isin(push_bodyparts)\n",
    "    \n",
    "    pull_bodyparts = ['Biceps', 'Lats', 'Hamstring', 'Middle Back', 'Lower Back', 'Glutes', 'Calves', 'Traps', 'Abductors']\n",
    "    exercise_data['Pull'] = exercise_data['Bodypart'].isin(pull_bodyparts)\n",
    "\n",
    "    return exercise_data\n",
    "\n",
    "def plot_equipment_type_comparison(exercise_data_cleaned: pd.DataFrame) -> None:\n",
    "    \"\"\"\n",
    "    Plots the distribution of equipment used during exercise with the type of exercise it is data.\n",
    "\n",
    "    This function creates a stacked bar char:\n",
    "    1. The chart shows the type of exercise on the x-axis and the stacked bar show the equipment used by count. \n",
    "    \n",
    "\n",
    "    Args:\n",
    "        exercise_data_cleaned (pd.DataFrame): A DataFrame containing the 'Push' and 'Pull' columns. \n",
    "\n",
    "    Returns:\n",
    "        None: The function generates and displays the stacked bar chart.\n",
    "    \"\"\"\n",
    "    type_equip_counts = exercise_data.groupby(['Type', 'Equipment']).size().unstack()\n",
    "    type_equip_counts.plot(kind='bar', stacked=True, figsize=(8, 5), edgecolor='black')\n",
    "\n",
    "    plt.title('Comparison of Type of Exercise and Equipment Used', fontsize=14)\n",
    "    plt.xlabel('Type', fontsize=12)\n",
    "    plt.ylabel('Count', fontsize=12)\n",
    "\n",
    "    plt.xticks(rotation=45)\n",
    "\n",
    "    plt.tight_layout()\n",
    "    plt.show()"
   ]
  }
 ],
 "metadata": {
  "kernelspec": {
   "display_name": "Python 3",
   "language": "python",
   "name": "python3"
  },
  "language_info": {
   "codemirror_mode": {
    "name": "ipython",
    "version": 3
   },
   "file_extension": ".py",
   "mimetype": "text/x-python",
   "name": "python",
   "nbconvert_exporter": "python",
   "pygments_lexer": "ipython3",
   "version": "3.11.9"
  }
 },
 "nbformat": 4,
 "nbformat_minor": 2
}
